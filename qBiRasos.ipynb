{
 "cells": [
  {
   "cell_type": "markdown",
   "metadata": {},
   "source": [
    "# qBiRasos\n"
   ]
  },
  {
   "cell_type": "markdown",
   "metadata": {},
   "source": [
    "## 0. 参数"
   ]
  },
  {
   "cell_type": "code",
   "execution_count": 73,
   "metadata": {},
   "outputs": [],
   "source": [
    "import requests,json\n",
    "\n",
    "#剧集信息\n",
    "# rss订阅地址\n",
    "subscribe_ssr = 'RSS feed url'\n",
    "# 剧名\n",
    "title_of_series = 'name of the series'\n",
    "# 季数(比如第一季，则输入1)\n",
    "season_of_series = 1\n",
    "\n",
    "#qbittorrent信息\n",
    "# qbittorrent 用户账号密码\n",
    "qbit_username = 'your username'\n",
    "qbit_password = 'your password'\n",
    "# qbittorrent地址:端口\n",
    "url_qbt = 'http://localhost:port'\n",
    "# qbittorrent 剧集储存目录（对应qbittorrent 中分类的保存路径）\n",
    "series_directory = '/your/Series/directory'\n",
    "\n",
    "\n",
    "\n",
    "# qbittorrent api 参数\n",
    "api_param = '/api/v2/'\n",
    "# 登录接口\n",
    "auth_login_api = 'auth/login'\n",
    "# 登出接口\n",
    "auth_logout_api = 'auth/logout'\n",
    "# 创建分类接口\n",
    "create_category_api =  'torrents/createCategory'\n",
    "# 添加rss订阅接口\n",
    "add_feed_api = 'rss/addFeed'\n",
    "# rss下载规则接口\n",
    "set_rule_api = 'rss/setRule'\n",
    "\n"
   ]
  },
  {
   "cell_type": "markdown",
   "metadata": {},
   "source": [
    "## 1. 登录并接受cookie"
   ]
  },
  {
   "cell_type": "code",
   "execution_count": 74,
   "metadata": {},
   "outputs": [
    {
     "name": "stdout",
     "output_type": "stream",
     "text": [
      "200\n"
     ]
    }
   ],
   "source": [
    "login_param = {'username' : qbit_username,\n",
    "             'password' : qbit_password}\n",
    "headers = {'Referer': url_qbt}\n",
    "\n",
    "login_request =requests.post(url_qbt + api_param + auth_login_api , headers=headers, data=login_param)\n",
    "print(login_request.status_code)\n",
    "login_request_response_headers = login_request.headers\n",
    "cookie_with_SID = login_request_response_headers['set-cookie'].split(';')[0]\n",
    "\n",
    "headers['Cookie'] = cookie_with_SID"
   ]
  },
  {
   "cell_type": "markdown",
   "metadata": {},
   "source": [
    "## 2. 创建新目录"
   ]
  },
  {
   "cell_type": "code",
   "execution_count": 75,
   "metadata": {},
   "outputs": [],
   "source": [
    "createCategory_param = {'category': title_of_series, 'savePath' : series_directory + title_of_series + '/Season ' + str(season_of_series)}\n",
    "\n",
    "createCategory_request = requests.post(url_qbt + api_param + create_category_api , headers=headers, data=createCategory_param)\n"
   ]
  },
  {
   "cell_type": "markdown",
   "metadata": {},
   "source": [
    "## 3. RSS添加新订阅并改名"
   ]
  },
  {
   "cell_type": "code",
   "execution_count": 76,
   "metadata": {},
   "outputs": [
    {
     "name": "stdout",
     "output_type": "stream",
     "text": [
      "200\n"
     ]
    }
   ],
   "source": [
    "# 添加新订阅+改名\n",
    "addFeed_param = {'url' : subscribe_ssr,\n",
    "                 'path': title_of_series}\n",
    "addFeed_request = requests.post(url_qbt + api_param + add_feed_api , headers=headers, data=addFeed_param)\n",
    "print(addFeed_request.status_code)"
   ]
  },
  {
   "cell_type": "markdown",
   "metadata": {},
   "source": [
    "## 4. 创建RSS下载器"
   ]
  },
  {
   "cell_type": "code",
   "execution_count": 77,
   "metadata": {},
   "outputs": [
    {
     "name": "stdout",
     "output_type": "stream",
     "text": [
      "200\n"
     ]
    }
   ],
   "source": [
    "ruleDef_param = {\"addPaused\":None,\n",
    "                 \"affectedFeeds\":[subscribe_ssr],\n",
    "                 \"assignedCategory\":\"\",\n",
    "                 \"enabled\":True,\n",
    "                 \"episodeFilter\":\"\",\n",
    "                 \"ignoreDays\":0,\n",
    "                 \"lastMatch\":\"\",\n",
    "                 \"mustContain\":\"\",\n",
    "                 \"mustNotContain\":\"\",\n",
    "                 \"previouslyMatchedEpisodes\":[],\n",
    "                 \"priority\":0,\n",
    "                 \"savePath\":\"\",\n",
    "                 \"smartFilter\":False,\n",
    "                 \"torrentContentLayout\":None,\n",
    "                 \"torrentParams\":{\"category\": title_of_series,\n",
    "                                  \"download_limit\":-1,\n",
    "                                  \"download_path\":\"\",\n",
    "                                  \"inactive_seeding_time_limit\":-2,\n",
    "                                  \"operating_mode\":\"AutoManaged\",\n",
    "                                  \"ratio_limit\":-2,\"save_path\":\"\",\n",
    "                                  \"seeding_time_limit\":-2,\n",
    "                                  \"skip_checking\":False,\n",
    "                                  \"tags\":[\"\"],\"upload_limit\":-1,\n",
    "                                  \"stopped\":False},\n",
    "                \"useRegex\":False}\n",
    "\n",
    "setRule_param = {'ruleName': title_of_series,\n",
    "                 'ruleDef': json.dumps(ruleDef_param)}\n",
    "\n",
    "setRule_request = requests.post(url_qbt + api_param + set_rule_api , headers=headers, data=setRule_param)\n",
    "print(setRule_request.status_code)\n"
   ]
  },
  {
   "cell_type": "markdown",
   "metadata": {},
   "source": [
    "## 5. 登出"
   ]
  },
  {
   "cell_type": "code",
   "execution_count": 78,
   "metadata": {},
   "outputs": [
    {
     "name": "stdout",
     "output_type": "stream",
     "text": [
      "200\n"
     ]
    }
   ],
   "source": [
    "logout_request = requests.post(url_qbt + api_param + auth_logout_api , headers=headers, data={})\n",
    "print(logout_request.status_code)"
   ]
  }
 ],
 "metadata": {
  "kernelspec": {
   "display_name": "base",
   "language": "python",
   "name": "python3"
  },
  "language_info": {
   "codemirror_mode": {
    "name": "ipython",
    "version": 3
   },
   "file_extension": ".py",
   "mimetype": "text/x-python",
   "name": "python",
   "nbconvert_exporter": "python",
   "pygments_lexer": "ipython3",
   "version": "3.11.7"
  }
 },
 "nbformat": 4,
 "nbformat_minor": 2
}
